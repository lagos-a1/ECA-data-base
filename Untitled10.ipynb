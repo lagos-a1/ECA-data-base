{
  "nbformat": 4,
  "nbformat_minor": 0,
  "metadata": {
    "colab": {
      "name": "Untitled10.ipynb",
      "provenance": [],
      "include_colab_link": true
    },
    "kernelspec": {
      "name": "python3",
      "display_name": "Python 3"
    }
  },
  "cells": [
    {
      "cell_type": "markdown",
      "metadata": {
        "id": "view-in-github",
        "colab_type": "text"
      },
      "source": [
        "<a href=\"https://colab.research.google.com/github/lagos-a1/ECA-data-base/blob/master/Untitled10.ipynb\" target=\"_parent\"><img src=\"https://colab.research.google.com/assets/colab-badge.svg\" alt=\"Open In Colab\"/></a>"
      ]
    },
    {
      "cell_type": "code",
      "metadata": {
        "id": "866cTnqwvF7p",
        "colab_type": "code",
        "outputId": "8a1bfb08-0b3b-477d-d3ab-0686c9127066",
        "colab": {
          "resources": {
            "http://localhost:8080/nbextensions/google.colab/files.js": {
              "data": "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",
              "ok": true,
              "headers": [
                [
                  "content-type",
                  "application/javascript"
                ]
              ],
              "status": 200,
              "status_text": ""
            }
          },
          "base_uri": "https://localhost:8080/",
          "height": 75
        }
      },
      "source": [
        "import pandas as pd\n",
        "import io\n",
        "from datetime import date\n",
        "\n",
        "\n",
        "from google.colab import files\n",
        "uploaded = files.upload()\n",
        "\n",
        "Data = pd.read_csv(io.StringIO(uploaded['Python.csv'].decode('utf-8')))"
      ],
      "execution_count": 0,
      "outputs": [
        {
          "output_type": "display_data",
          "data": {
            "text/html": [
              "\n",
              "     <input type=\"file\" id=\"files-124b00aa-e781-46af-82dc-aff29f7ec676\" name=\"files[]\" multiple disabled />\n",
              "     <output id=\"result-124b00aa-e781-46af-82dc-aff29f7ec676\">\n",
              "      Upload widget is only available when the cell has been executed in the\n",
              "      current browser session. Please rerun this cell to enable.\n",
              "      </output>\n",
              "      <script src=\"/nbextensions/google.colab/files.js\"></script> "
            ],
            "text/plain": [
              "<IPython.core.display.HTML object>"
            ]
          },
          "metadata": {
            "tags": []
          }
        },
        {
          "output_type": "stream",
          "text": [
            "Saving Python.csv to Python.csv\n"
          ],
          "name": "stdout"
        }
      ]
    },
    {
      "cell_type": "code",
      "metadata": {
        "id": "s1Q_FFTbkhPi",
        "colab_type": "code",
        "outputId": "fbfaac0e-9b06-452b-f169-beb508b8bd3d",
        "colab": {
          "base_uri": "https://localhost:8080/",
          "height": 417
        }
      },
      "source": [
        "Data"
      ],
      "execution_count": 0,
      "outputs": [
        {
          "output_type": "execute_result",
          "data": {
            "text/html": [
              "<div>\n",
              "<style scoped>\n",
              "    .dataframe tbody tr th:only-of-type {\n",
              "        vertical-align: middle;\n",
              "    }\n",
              "\n",
              "    .dataframe tbody tr th {\n",
              "        vertical-align: top;\n",
              "    }\n",
              "\n",
              "    .dataframe thead th {\n",
              "        text-align: right;\n",
              "    }\n",
              "</style>\n",
              "<table border=\"1\" class=\"dataframe\">\n",
              "  <thead>\n",
              "    <tr style=\"text-align: right;\">\n",
              "      <th></th>\n",
              "      <th>Name</th>\n",
              "      <th>Gender</th>\n",
              "      <th>DateOfBirth</th>\n",
              "      <th>Industry</th>\n",
              "      <th>Income</th>\n",
              "    </tr>\n",
              "  </thead>\n",
              "  <tbody>\n",
              "    <tr>\n",
              "      <th>0</th>\n",
              "      <td>Forrest Fernandez</td>\n",
              "      <td>2</td>\n",
              "      <td>4/12/2018</td>\n",
              "      <td>Tristique Limited</td>\n",
              "      <td>91 493</td>\n",
              "    </tr>\n",
              "    <tr>\n",
              "      <th>1</th>\n",
              "      <td>Helen Harrington</td>\n",
              "      <td>2</td>\n",
              "      <td>29/03/2020</td>\n",
              "      <td>Luctus Ipsum Corporation</td>\n",
              "      <td>36 516</td>\n",
              "    </tr>\n",
              "    <tr>\n",
              "      <th>2</th>\n",
              "      <td>Brianna Rios</td>\n",
              "      <td>2</td>\n",
              "      <td>6/08/2018</td>\n",
              "      <td>Nec Tellus Company</td>\n",
              "      <td>48 806</td>\n",
              "    </tr>\n",
              "    <tr>\n",
              "      <th>3</th>\n",
              "      <td>Rahim Kinney</td>\n",
              "      <td>2</td>\n",
              "      <td>25/06/2019</td>\n",
              "      <td>Bibendum Associates</td>\n",
              "      <td>80 670</td>\n",
              "    </tr>\n",
              "    <tr>\n",
              "      <th>4</th>\n",
              "      <td>Erasmus Rosa</td>\n",
              "      <td>1</td>\n",
              "      <td>5/08/2019</td>\n",
              "      <td>Lorem Vehicula Et Consulting</td>\n",
              "      <td>18 197</td>\n",
              "    </tr>\n",
              "    <tr>\n",
              "      <th>...</th>\n",
              "      <td>...</td>\n",
              "      <td>...</td>\n",
              "      <td>...</td>\n",
              "      <td>...</td>\n",
              "      <td>...</td>\n",
              "    </tr>\n",
              "    <tr>\n",
              "      <th>95</th>\n",
              "      <td>Orlando Valentine</td>\n",
              "      <td>1</td>\n",
              "      <td>27/11/2019</td>\n",
              "      <td>Magna Cras LLC</td>\n",
              "      <td>39 563</td>\n",
              "    </tr>\n",
              "    <tr>\n",
              "      <th>96</th>\n",
              "      <td>Rose Burgess</td>\n",
              "      <td>1</td>\n",
              "      <td>21/09/2019</td>\n",
              "      <td>Nec Ante Blandit Limited</td>\n",
              "      <td>36 587</td>\n",
              "    </tr>\n",
              "    <tr>\n",
              "      <th>97</th>\n",
              "      <td>Cade Spence</td>\n",
              "      <td>1</td>\n",
              "      <td>11/08/2018</td>\n",
              "      <td>Nulla Company</td>\n",
              "      <td>62 780</td>\n",
              "    </tr>\n",
              "    <tr>\n",
              "      <th>98</th>\n",
              "      <td>Maxwell Hendrix</td>\n",
              "      <td>1</td>\n",
              "      <td>31/08/2018</td>\n",
              "      <td>Aliquet Molestie Company</td>\n",
              "      <td>89 064</td>\n",
              "    </tr>\n",
              "    <tr>\n",
              "      <th>99</th>\n",
              "      <td>Sophia Branch</td>\n",
              "      <td>2</td>\n",
              "      <td>31/10/2019</td>\n",
              "      <td>Mauris Associates</td>\n",
              "      <td>79 135</td>\n",
              "    </tr>\n",
              "  </tbody>\n",
              "</table>\n",
              "<p>100 rows × 5 columns</p>\n",
              "</div>"
            ],
            "text/plain": [
              "                 Name  Gender DateOfBirth                      Industry  Income\n",
              "0   Forrest Fernandez       2   4/12/2018             Tristique Limited  91 493\n",
              "1    Helen Harrington       2  29/03/2020      Luctus Ipsum Corporation  36 516\n",
              "2        Brianna Rios       2   6/08/2018            Nec Tellus Company  48 806\n",
              "3        Rahim Kinney       2  25/06/2019           Bibendum Associates  80 670\n",
              "4        Erasmus Rosa       1   5/08/2019  Lorem Vehicula Et Consulting  18 197\n",
              "..                ...     ...         ...                           ...     ...\n",
              "95  Orlando Valentine       1  27/11/2019                Magna Cras LLC  39 563\n",
              "96       Rose Burgess       1  21/09/2019      Nec Ante Blandit Limited  36 587\n",
              "97        Cade Spence       1  11/08/2018                 Nulla Company  62 780\n",
              "98    Maxwell Hendrix       1  31/08/2018      Aliquet Molestie Company  89 064\n",
              "99      Sophia Branch       2  31/10/2019             Mauris Associates  79 135\n",
              "\n",
              "[100 rows x 5 columns]"
            ]
          },
          "metadata": {
            "tags": []
          },
          "execution_count": 2
        }
      ]
    },
    {
      "cell_type": "code",
      "metadata": {
        "id": "IEVTWMgqkkOZ",
        "colab_type": "code",
        "colab": {}
      },
      "source": [
        "BackupData = Data.copy()"
      ],
      "execution_count": 0,
      "outputs": []
    },
    {
      "cell_type": "code",
      "metadata": {
        "id": "Qvfp-WD8kwpl",
        "colab_type": "code",
        "outputId": "8663d5b7-e2c8-4956-f62f-aaa6bbfa7177",
        "colab": {
          "base_uri": "https://localhost:8080/",
          "height": 120
        }
      },
      "source": [
        "Data.dtypes"
      ],
      "execution_count": 0,
      "outputs": [
        {
          "output_type": "execute_result",
          "data": {
            "text/plain": [
              "Name           object\n",
              "Gender          int64\n",
              "DateOfBirth    object\n",
              "Industry       object\n",
              "Income         object\n",
              "dtype: object"
            ]
          },
          "metadata": {
            "tags": []
          },
          "execution_count": 4
        }
      ]
    },
    {
      "cell_type": "code",
      "metadata": {
        "id": "Qu76kp0xlH4L",
        "colab_type": "code",
        "colab": {}
      },
      "source": [
        "Data['DateOfBirth'] = pd.to_datetime(Data['DateOfBirth'])"
      ],
      "execution_count": 0,
      "outputs": []
    },
    {
      "cell_type": "code",
      "metadata": {
        "id": "RV2MQg65lgI4",
        "colab_type": "code",
        "outputId": "089d2967-bd3e-452f-fee5-e305c033a387",
        "colab": {
          "base_uri": "https://localhost:8080/",
          "height": 120
        }
      },
      "source": [
        "Data.dtypes"
      ],
      "execution_count": 0,
      "outputs": [
        {
          "output_type": "execute_result",
          "data": {
            "text/plain": [
              "Name                   object\n",
              "Gender                  int64\n",
              "DateOfBirth    datetime64[ns]\n",
              "Industry               object\n",
              "Income                 object\n",
              "dtype: object"
            ]
          },
          "metadata": {
            "tags": []
          },
          "execution_count": 6
        }
      ]
    },
    {
      "cell_type": "code",
      "metadata": {
        "id": "F_J5NWqIliyT",
        "colab_type": "code",
        "colab": {}
      },
      "source": [
        "def calculate_age(dtob):\n",
        "    today = date.today()\n",
        "    return today.year - dtob.year - ((today.month, today.day) < (dtob.month, dtob.day))"
      ],
      "execution_count": 0,
      "outputs": []
    },
    {
      "cell_type": "code",
      "metadata": {
        "id": "1n06T98Knwgl",
        "colab_type": "code",
        "colab": {}
      },
      "source": [
        "today = date.today()\n",
        "\n",
        "Data['Age'] = today.year - Data['DateOfBirth'].apply(lambda x: x.year)"
      ],
      "execution_count": 0,
      "outputs": []
    },
    {
      "cell_type": "code",
      "metadata": {
        "id": "e8qirqzipu2V",
        "colab_type": "code",
        "outputId": "97a10131-9907-403c-921e-eb407935c281",
        "colab": {
          "base_uri": "https://localhost:8080/",
          "height": 417
        }
      },
      "source": [
        "Data"
      ],
      "execution_count": 0,
      "outputs": [
        {
          "output_type": "execute_result",
          "data": {
            "text/html": [
              "<div>\n",
              "<style scoped>\n",
              "    .dataframe tbody tr th:only-of-type {\n",
              "        vertical-align: middle;\n",
              "    }\n",
              "\n",
              "    .dataframe tbody tr th {\n",
              "        vertical-align: top;\n",
              "    }\n",
              "\n",
              "    .dataframe thead th {\n",
              "        text-align: right;\n",
              "    }\n",
              "</style>\n",
              "<table border=\"1\" class=\"dataframe\">\n",
              "  <thead>\n",
              "    <tr style=\"text-align: right;\">\n",
              "      <th></th>\n",
              "      <th>Name</th>\n",
              "      <th>Gender</th>\n",
              "      <th>DateOfBirth</th>\n",
              "      <th>Industry</th>\n",
              "      <th>Income</th>\n",
              "      <th>Age</th>\n",
              "    </tr>\n",
              "  </thead>\n",
              "  <tbody>\n",
              "    <tr>\n",
              "      <th>0</th>\n",
              "      <td>Forrest Fernandez</td>\n",
              "      <td>2</td>\n",
              "      <td>2018-04-12</td>\n",
              "      <td>Tristique Limited</td>\n",
              "      <td>91 493</td>\n",
              "      <td>1</td>\n",
              "    </tr>\n",
              "    <tr>\n",
              "      <th>1</th>\n",
              "      <td>Helen Harrington</td>\n",
              "      <td>2</td>\n",
              "      <td>2020-03-29</td>\n",
              "      <td>Luctus Ipsum Corporation</td>\n",
              "      <td>36 516</td>\n",
              "      <td>-1</td>\n",
              "    </tr>\n",
              "    <tr>\n",
              "      <th>2</th>\n",
              "      <td>Brianna Rios</td>\n",
              "      <td>2</td>\n",
              "      <td>2018-06-08</td>\n",
              "      <td>Nec Tellus Company</td>\n",
              "      <td>48 806</td>\n",
              "      <td>1</td>\n",
              "    </tr>\n",
              "    <tr>\n",
              "      <th>3</th>\n",
              "      <td>Rahim Kinney</td>\n",
              "      <td>2</td>\n",
              "      <td>2019-06-25</td>\n",
              "      <td>Bibendum Associates</td>\n",
              "      <td>80 670</td>\n",
              "      <td>0</td>\n",
              "    </tr>\n",
              "    <tr>\n",
              "      <th>4</th>\n",
              "      <td>Erasmus Rosa</td>\n",
              "      <td>1</td>\n",
              "      <td>2019-05-08</td>\n",
              "      <td>Lorem Vehicula Et Consulting</td>\n",
              "      <td>18 197</td>\n",
              "      <td>0</td>\n",
              "    </tr>\n",
              "    <tr>\n",
              "      <th>...</th>\n",
              "      <td>...</td>\n",
              "      <td>...</td>\n",
              "      <td>...</td>\n",
              "      <td>...</td>\n",
              "      <td>...</td>\n",
              "      <td>...</td>\n",
              "    </tr>\n",
              "    <tr>\n",
              "      <th>95</th>\n",
              "      <td>Orlando Valentine</td>\n",
              "      <td>1</td>\n",
              "      <td>2019-11-27</td>\n",
              "      <td>Magna Cras LLC</td>\n",
              "      <td>39 563</td>\n",
              "      <td>0</td>\n",
              "    </tr>\n",
              "    <tr>\n",
              "      <th>96</th>\n",
              "      <td>Rose Burgess</td>\n",
              "      <td>1</td>\n",
              "      <td>2019-09-21</td>\n",
              "      <td>Nec Ante Blandit Limited</td>\n",
              "      <td>36 587</td>\n",
              "      <td>0</td>\n",
              "    </tr>\n",
              "    <tr>\n",
              "      <th>97</th>\n",
              "      <td>Cade Spence</td>\n",
              "      <td>1</td>\n",
              "      <td>2018-11-08</td>\n",
              "      <td>Nulla Company</td>\n",
              "      <td>62 780</td>\n",
              "      <td>1</td>\n",
              "    </tr>\n",
              "    <tr>\n",
              "      <th>98</th>\n",
              "      <td>Maxwell Hendrix</td>\n",
              "      <td>1</td>\n",
              "      <td>2018-08-31</td>\n",
              "      <td>Aliquet Molestie Company</td>\n",
              "      <td>89 064</td>\n",
              "      <td>1</td>\n",
              "    </tr>\n",
              "    <tr>\n",
              "      <th>99</th>\n",
              "      <td>Sophia Branch</td>\n",
              "      <td>2</td>\n",
              "      <td>2019-10-31</td>\n",
              "      <td>Mauris Associates</td>\n",
              "      <td>79 135</td>\n",
              "      <td>0</td>\n",
              "    </tr>\n",
              "  </tbody>\n",
              "</table>\n",
              "<p>100 rows × 6 columns</p>\n",
              "</div>"
            ],
            "text/plain": [
              "                 Name  Gender  ...  Income Age\n",
              "0   Forrest Fernandez       2  ...  91 493   1\n",
              "1    Helen Harrington       2  ...  36 516  -1\n",
              "2        Brianna Rios       2  ...  48 806   1\n",
              "3        Rahim Kinney       2  ...  80 670   0\n",
              "4        Erasmus Rosa       1  ...  18 197   0\n",
              "..                ...     ...  ...     ...  ..\n",
              "95  Orlando Valentine       1  ...  39 563   0\n",
              "96       Rose Burgess       1  ...  36 587   0\n",
              "97        Cade Spence       1  ...  62 780   1\n",
              "98    Maxwell Hendrix       1  ...  89 064   1\n",
              "99      Sophia Branch       2  ...  79 135   0\n",
              "\n",
              "[100 rows x 6 columns]"
            ]
          },
          "metadata": {
            "tags": []
          },
          "execution_count": 9
        }
      ]
    },
    {
      "cell_type": "markdown",
      "metadata": {
        "id": "CEwarc4BpxfF",
        "colab_type": "text"
      },
      "source": [
        "Date of birth must be always a positive value. However, some ages are negatives. "
      ]
    },
    {
      "cell_type": "code",
      "metadata": {
        "id": "r1gHiHO_p-Yu",
        "colab_type": "code",
        "colab": {}
      },
      "source": [
        "Data['age_bin'] = pd.cut(x=Data['Age'], bins=[-1, 18, 25, 35, 45, 55, 65], labels=['<18', '25 – 35', '35 – 45','45 – 55','55 – 64','>65'])"
      ],
      "execution_count": 0,
      "outputs": []
    },
    {
      "cell_type": "code",
      "metadata": {
        "id": "XQ0BYQ7HrPws",
        "colab_type": "code",
        "outputId": "d924f56a-3b73-4b41-8e31-7805dd9d9337",
        "colab": {
          "base_uri": "https://localhost:8080/",
          "height": 417
        }
      },
      "source": [
        "Data"
      ],
      "execution_count": 0,
      "outputs": [
        {
          "output_type": "execute_result",
          "data": {
            "text/html": [
              "<div>\n",
              "<style scoped>\n",
              "    .dataframe tbody tr th:only-of-type {\n",
              "        vertical-align: middle;\n",
              "    }\n",
              "\n",
              "    .dataframe tbody tr th {\n",
              "        vertical-align: top;\n",
              "    }\n",
              "\n",
              "    .dataframe thead th {\n",
              "        text-align: right;\n",
              "    }\n",
              "</style>\n",
              "<table border=\"1\" class=\"dataframe\">\n",
              "  <thead>\n",
              "    <tr style=\"text-align: right;\">\n",
              "      <th></th>\n",
              "      <th>Name</th>\n",
              "      <th>Gender</th>\n",
              "      <th>DateOfBirth</th>\n",
              "      <th>Industry</th>\n",
              "      <th>Income</th>\n",
              "      <th>Age</th>\n",
              "      <th>age_bin</th>\n",
              "    </tr>\n",
              "  </thead>\n",
              "  <tbody>\n",
              "    <tr>\n",
              "      <th>0</th>\n",
              "      <td>Forrest Fernandez</td>\n",
              "      <td>2</td>\n",
              "      <td>2018-04-12</td>\n",
              "      <td>Tristique Limited</td>\n",
              "      <td>91 493</td>\n",
              "      <td>1</td>\n",
              "      <td>&lt;18</td>\n",
              "    </tr>\n",
              "    <tr>\n",
              "      <th>1</th>\n",
              "      <td>Helen Harrington</td>\n",
              "      <td>2</td>\n",
              "      <td>2020-03-29</td>\n",
              "      <td>Luctus Ipsum Corporation</td>\n",
              "      <td>36 516</td>\n",
              "      <td>-1</td>\n",
              "      <td>NaN</td>\n",
              "    </tr>\n",
              "    <tr>\n",
              "      <th>2</th>\n",
              "      <td>Brianna Rios</td>\n",
              "      <td>2</td>\n",
              "      <td>2018-06-08</td>\n",
              "      <td>Nec Tellus Company</td>\n",
              "      <td>48 806</td>\n",
              "      <td>1</td>\n",
              "      <td>&lt;18</td>\n",
              "    </tr>\n",
              "    <tr>\n",
              "      <th>3</th>\n",
              "      <td>Rahim Kinney</td>\n",
              "      <td>2</td>\n",
              "      <td>2019-06-25</td>\n",
              "      <td>Bibendum Associates</td>\n",
              "      <td>80 670</td>\n",
              "      <td>0</td>\n",
              "      <td>&lt;18</td>\n",
              "    </tr>\n",
              "    <tr>\n",
              "      <th>4</th>\n",
              "      <td>Erasmus Rosa</td>\n",
              "      <td>1</td>\n",
              "      <td>2019-05-08</td>\n",
              "      <td>Lorem Vehicula Et Consulting</td>\n",
              "      <td>18 197</td>\n",
              "      <td>0</td>\n",
              "      <td>&lt;18</td>\n",
              "    </tr>\n",
              "    <tr>\n",
              "      <th>...</th>\n",
              "      <td>...</td>\n",
              "      <td>...</td>\n",
              "      <td>...</td>\n",
              "      <td>...</td>\n",
              "      <td>...</td>\n",
              "      <td>...</td>\n",
              "      <td>...</td>\n",
              "    </tr>\n",
              "    <tr>\n",
              "      <th>95</th>\n",
              "      <td>Orlando Valentine</td>\n",
              "      <td>1</td>\n",
              "      <td>2019-11-27</td>\n",
              "      <td>Magna Cras LLC</td>\n",
              "      <td>39 563</td>\n",
              "      <td>0</td>\n",
              "      <td>&lt;18</td>\n",
              "    </tr>\n",
              "    <tr>\n",
              "      <th>96</th>\n",
              "      <td>Rose Burgess</td>\n",
              "      <td>1</td>\n",
              "      <td>2019-09-21</td>\n",
              "      <td>Nec Ante Blandit Limited</td>\n",
              "      <td>36 587</td>\n",
              "      <td>0</td>\n",
              "      <td>&lt;18</td>\n",
              "    </tr>\n",
              "    <tr>\n",
              "      <th>97</th>\n",
              "      <td>Cade Spence</td>\n",
              "      <td>1</td>\n",
              "      <td>2018-11-08</td>\n",
              "      <td>Nulla Company</td>\n",
              "      <td>62 780</td>\n",
              "      <td>1</td>\n",
              "      <td>&lt;18</td>\n",
              "    </tr>\n",
              "    <tr>\n",
              "      <th>98</th>\n",
              "      <td>Maxwell Hendrix</td>\n",
              "      <td>1</td>\n",
              "      <td>2018-08-31</td>\n",
              "      <td>Aliquet Molestie Company</td>\n",
              "      <td>89 064</td>\n",
              "      <td>1</td>\n",
              "      <td>&lt;18</td>\n",
              "    </tr>\n",
              "    <tr>\n",
              "      <th>99</th>\n",
              "      <td>Sophia Branch</td>\n",
              "      <td>2</td>\n",
              "      <td>2019-10-31</td>\n",
              "      <td>Mauris Associates</td>\n",
              "      <td>79 135</td>\n",
              "      <td>0</td>\n",
              "      <td>&lt;18</td>\n",
              "    </tr>\n",
              "  </tbody>\n",
              "</table>\n",
              "<p>100 rows × 7 columns</p>\n",
              "</div>"
            ],
            "text/plain": [
              "                 Name  Gender DateOfBirth  ...  Income Age  age_bin\n",
              "0   Forrest Fernandez       2  2018-04-12  ...  91 493   1      <18\n",
              "1    Helen Harrington       2  2020-03-29  ...  36 516  -1      NaN\n",
              "2        Brianna Rios       2  2018-06-08  ...  48 806   1      <18\n",
              "3        Rahim Kinney       2  2019-06-25  ...  80 670   0      <18\n",
              "4        Erasmus Rosa       1  2019-05-08  ...  18 197   0      <18\n",
              "..                ...     ...         ...  ...     ...  ..      ...\n",
              "95  Orlando Valentine       1  2019-11-27  ...  39 563   0      <18\n",
              "96       Rose Burgess       1  2019-09-21  ...  36 587   0      <18\n",
              "97        Cade Spence       1  2018-11-08  ...  62 780   1      <18\n",
              "98    Maxwell Hendrix       1  2018-08-31  ...  89 064   1      <18\n",
              "99      Sophia Branch       2  2019-10-31  ...  79 135   0      <18\n",
              "\n",
              "[100 rows x 7 columns]"
            ]
          },
          "metadata": {
            "tags": []
          },
          "execution_count": 11
        }
      ]
    },
    {
      "cell_type": "code",
      "metadata": {
        "id": "0Nl1EBoUrWTs",
        "colab_type": "code",
        "outputId": "df3671c5-e167-4acd-f17c-f2996a6caca6",
        "colab": {
          "base_uri": "https://localhost:8080/",
          "height": 54
        }
      },
      "source": [
        "print(Data.to_json(orient ='records')) "
      ],
      "execution_count": 0,
      "outputs": [
        {
          "output_type": "stream",
          "text": [
            "[{\"Name\":\"Forrest Fernandez\",\"Gender\":2,\"DateOfBirth\":1523491200000,\"Industry\":\"Tristique Limited\",\"Income\":\"91 493\",\"Age\":1,\"age_bin\":\"<18\"},{\"Name\":\"Helen Harrington\",\"Gender\":2,\"DateOfBirth\":1585440000000,\"Industry\":\"Luctus Ipsum Corporation\",\"Income\":\"36 516\",\"Age\":-1,\"age_bin\":null},{\"Name\":\"Brianna Rios\",\"Gender\":2,\"DateOfBirth\":1528416000000,\"Industry\":\"Nec Tellus Company\",\"Income\":\"48 806\",\"Age\":1,\"age_bin\":\"<18\"},{\"Name\":\"Rahim Kinney\",\"Gender\":2,\"DateOfBirth\":1561420800000,\"Industry\":\"Bibendum Associates\",\"Income\":\"80 670\",\"Age\":0,\"age_bin\":\"<18\"},{\"Name\":\"Erasmus Rosa\",\"Gender\":1,\"DateOfBirth\":1557273600000,\"Industry\":\"Lorem Vehicula Et Consulting\",\"Income\":\"18 197\",\"Age\":0,\"age_bin\":\"<18\"},{\"Name\":\"Lunea Sutton\",\"Gender\":1,\"DateOfBirth\":1562198400000,\"Industry\":\"Inceptos Hymenaeos Mauris Corporation\",\"Income\":\"73 384\",\"Age\":0,\"age_bin\":\"<18\"},{\"Name\":\"Orlando Bell\",\"Gender\":2,\"DateOfBirth\":1557100800000,\"Industry\":\"Mi Pede Incorporated\",\"Income\":\"73 999\",\"Age\":0,\"age_bin\":\"<18\"},{\"Name\":\"Ahmed Monroe\",\"Gender\":2,\"DateOfBirth\":1574467200000,\"Industry\":\"Rutrum Institute\",\"Income\":\"69 263\",\"Age\":0,\"age_bin\":\"<18\"},{\"Name\":\"Autumn Marshall\",\"Gender\":2,\"DateOfBirth\":1571270400000,\"Industry\":\"Egestas A Inc.\",\"Income\":\"94 849\",\"Age\":0,\"age_bin\":\"<18\"},{\"Name\":\"Robert Herring\",\"Gender\":2,\"DateOfBirth\":1536624000000,\"Industry\":\"Nisi Associates\",\"Income\":\"29 224\",\"Age\":1,\"age_bin\":\"<18\"},{\"Name\":\"Yvette Ramos\",\"Gender\":1,\"DateOfBirth\":1525996800000,\"Industry\":\"Ultricies Industries\",\"Income\":\"61 549\",\"Age\":1,\"age_bin\":\"<18\"},{\"Name\":\"Camilla Porter\",\"Gender\":1,\"DateOfBirth\":1532304000000,\"Industry\":\"Montes Nascetur LLP\",\"Income\":\"62 762\",\"Age\":1,\"age_bin\":\"<18\"},{\"Name\":\"Xena Huffman\",\"Gender\":1,\"DateOfBirth\":1542931200000,\"Industry\":\"Porttitor Consulting\",\"Income\":\"94 731\",\"Age\":1,\"age_bin\":\"<18\"},{\"Name\":\"Yoko Keith\",\"Gender\":1,\"DateOfBirth\":1592870400000,\"Industry\":\"Felis Associates\",\"Income\":\"52 156\",\"Age\":-1,\"age_bin\":null},{\"Name\":\"Karly Hill\",\"Gender\":2,\"DateOfBirth\":1587859200000,\"Industry\":\"Sodales At PC\",\"Income\":\"99 624\",\"Age\":-1,\"age_bin\":null},{\"Name\":\"Nina Vaughan\",\"Gender\":1,\"DateOfBirth\":1585872000000,\"Industry\":\"Eu Enim Consulting\",\"Income\":\"35 053\",\"Age\":-1,\"age_bin\":null},{\"Name\":\"Tanner Rosales\",\"Gender\":2,\"DateOfBirth\":1571529600000,\"Industry\":\"Vitae Inc.\",\"Income\":\"57 323\",\"Age\":0,\"age_bin\":\"<18\"},{\"Name\":\"Celeste Hunter\",\"Gender\":1,\"DateOfBirth\":1585612800000,\"Industry\":\"Ipsum Cursus Vestibulum Institute\",\"Income\":\"59 537\",\"Age\":-1,\"age_bin\":null},{\"Name\":\"Chloe Cruz\",\"Gender\":1,\"DateOfBirth\":1554940800000,\"Industry\":\"Vitae Odio Sagittis LLP\",\"Income\":\"82 233\",\"Age\":0,\"age_bin\":\"<18\"},{\"Name\":\"Micah Schwartz\",\"Gender\":2,\"DateOfBirth\":1571788800000,\"Industry\":\"Diam Associates\",\"Income\":\"25 413\",\"Age\":0,\"age_bin\":\"<18\"},{\"Name\":\"Kasper Petersen\",\"Gender\":2,\"DateOfBirth\":1590883200000,\"Industry\":\"A LLP\",\"Income\":\"26 378\",\"Age\":-1,\"age_bin\":null},{\"Name\":\"Gail Harper\",\"Gender\":2,\"DateOfBirth\":1584662400000,\"Industry\":\"Erat Neque Non Inc.\",\"Income\":\"91 153\",\"Age\":-1,\"age_bin\":null},{\"Name\":\"Patience Miles\",\"Gender\":1,\"DateOfBirth\":1567728000000,\"Industry\":\"A Odio Semper LLP\",\"Income\":\"38 583\",\"Age\":0,\"age_bin\":\"<18\"},{\"Name\":\"Hyacinth Holden\",\"Gender\":1,\"DateOfBirth\":1560384000000,\"Industry\":\"Pede Blandit Congue Incorporated\",\"Income\":\"46 917\",\"Age\":0,\"age_bin\":\"<18\"},{\"Name\":\"Todd Mcclure\",\"Gender\":2,\"DateOfBirth\":1543104000000,\"Industry\":\"Libero Corporation\",\"Income\":\"28 302\",\"Age\":1,\"age_bin\":\"<18\"},{\"Name\":\"Barrett Clayton\",\"Gender\":1,\"DateOfBirth\":1599436800000,\"Industry\":\"Sed LLC\",\"Income\":\"87 988\",\"Age\":-1,\"age_bin\":null},{\"Name\":\"Emmanuel Padilla\",\"Gender\":2,\"DateOfBirth\":1606780800000,\"Industry\":\"Porttitor Eros Corp.\",\"Income\":\"32 256\",\"Age\":-1,\"age_bin\":null},{\"Name\":\"Amena Baxter\",\"Gender\":2,\"DateOfBirth\":1581552000000,\"Industry\":\"Dolor Tempus Non Limited\",\"Income\":\"10 654\",\"Age\":-1,\"age_bin\":null},{\"Name\":\"Duncan Collier\",\"Gender\":2,\"DateOfBirth\":1523318400000,\"Industry\":\"Lorem LLC\",\"Income\":\"92 651\",\"Age\":1,\"age_bin\":\"<18\"},{\"Name\":\"Asher Hudson\",\"Gender\":1,\"DateOfBirth\":1601683200000,\"Industry\":\"Aenean Sed LLP\",\"Income\":\"55 676\",\"Age\":-1,\"age_bin\":null},{\"Name\":\"Ramona Jimenez\",\"Gender\":1,\"DateOfBirth\":1576108800000,\"Industry\":\"Magna Tellus Faucibus Incorporated\",\"Income\":\"60 453\",\"Age\":0,\"age_bin\":\"<18\"},{\"Name\":\"Simon Harmon\",\"Gender\":2,\"DateOfBirth\":1564617600000,\"Industry\":\"Dui Nec Urna Incorporated\",\"Income\":\"69 344\",\"Age\":0,\"age_bin\":\"<18\"},{\"Name\":\"Noelani Buckner\",\"Gender\":1,\"DateOfBirth\":1577664000000,\"Industry\":\"Non Justo Corp.\",\"Income\":\"80 192\",\"Age\":0,\"age_bin\":\"<18\"},{\"Name\":\"Wang Grimes\",\"Gender\":1,\"DateOfBirth\":1563840000000,\"Industry\":\"Ornare Fusce Mollis Consulting\",\"Income\":\"90 917\",\"Age\":0,\"age_bin\":\"<18\"},{\"Name\":\"Gretchen Buckley\",\"Gender\":1,\"DateOfBirth\":1557532800000,\"Industry\":\"Donec PC\",\"Income\":\"46 061\",\"Age\":0,\"age_bin\":\"<18\"},{\"Name\":\"Dillon Gentry\",\"Gender\":2,\"DateOfBirth\":1550275200000,\"Industry\":\"Sagittis Augue Eu Foundation\",\"Income\":\"54 694\",\"Age\":0,\"age_bin\":\"<18\"},{\"Name\":\"Curran Holcomb\",\"Gender\":1,\"DateOfBirth\":1563321600000,\"Industry\":\"Nec Metus Limited\",\"Income\":\"87 128\",\"Age\":0,\"age_bin\":\"<18\"},{\"Name\":\"Moses Forbes\",\"Gender\":1,\"DateOfBirth\":1566345600000,\"Industry\":\"Est Mauris Ltd\",\"Income\":\"89 169\",\"Age\":0,\"age_bin\":\"<18\"},{\"Name\":\"Lisandra Ferguson\",\"Gender\":1,\"DateOfBirth\":1576108800000,\"Industry\":\"Proin Sed Turpis Limited\",\"Income\":\"77 582\",\"Age\":0,\"age_bin\":\"<18\"},{\"Name\":\"Ifeoma Klein\",\"Gender\":1,\"DateOfBirth\":1568332800000,\"Industry\":\"Sit Amet Nulla Corporation\",\"Income\":\"42 353\",\"Age\":0,\"age_bin\":\"<18\"},{\"Name\":\"Francesca Rose\",\"Gender\":2,\"DateOfBirth\":1570320000000,\"Industry\":\"Eleifend LLC\",\"Income\":\"22 593\",\"Age\":0,\"age_bin\":\"<18\"},{\"Name\":\"Benedict Warner\",\"Gender\":1,\"DateOfBirth\":1584057600000,\"Industry\":\"Sed Leo Incorporated\",\"Income\":\"15 892\",\"Age\":-1,\"age_bin\":null},{\"Name\":\"Bernard Phelps\",\"Gender\":1,\"DateOfBirth\":1588550400000,\"Industry\":\"Phasellus Nulla Integer Foundation\",\"Income\":\"86 691\",\"Age\":-1,\"age_bin\":null},{\"Name\":\"Tobias Watkins\",\"Gender\":2,\"DateOfBirth\":1592006400000,\"Industry\":\"Lacinia Sed Congue LLP\",\"Income\":\"30 951\",\"Age\":-1,\"age_bin\":null},{\"Name\":\"Madaline Nixon\",\"Gender\":1,\"DateOfBirth\":1583193600000,\"Industry\":\"Amet LLP\",\"Income\":\"31 051\",\"Age\":-1,\"age_bin\":null},{\"Name\":\"Abraham Goodwin\",\"Gender\":2,\"DateOfBirth\":1575158400000,\"Industry\":\"Lacus Industries\",\"Income\":\"98 499\",\"Age\":0,\"age_bin\":\"<18\"},{\"Name\":\"Jarrod Greer\",\"Gender\":2,\"DateOfBirth\":1537401600000,\"Industry\":\"Nibh Dolor Nonummy Limited\",\"Income\":\"40 612\",\"Age\":1,\"age_bin\":\"<18\"},{\"Name\":\"Ayanna Romero\",\"Gender\":2,\"DateOfBirth\":1568332800000,\"Industry\":\"Non Luctus Ltd\",\"Income\":\"95 670\",\"Age\":0,\"age_bin\":\"<18\"},{\"Name\":\"Sharon Flowers\",\"Gender\":1,\"DateOfBirth\":1537574400000,\"Industry\":\"Bibendum Fermentum Ltd\",\"Income\":\"98 432\",\"Age\":1,\"age_bin\":\"<18\"},{\"Name\":\"Jaden Leon\",\"Gender\":2,\"DateOfBirth\":1534550400000,\"Industry\":\"Nonummy Fusce Fermentum Limited\",\"Income\":\"64 815\",\"Age\":1,\"age_bin\":\"<18\"},{\"Name\":\"Allistair Fernandez\",\"Gender\":2,\"DateOfBirth\":1532217600000,\"Industry\":\"Metus In Nec Industries\",\"Income\":\"99 075\",\"Age\":1,\"age_bin\":\"<18\"},{\"Name\":\"James Valentine\",\"Gender\":1,\"DateOfBirth\":1592870400000,\"Industry\":\"A Industries\",\"Income\":\"62 823\",\"Age\":-1,\"age_bin\":null},{\"Name\":\"Demetria Fleming\",\"Gender\":2,\"DateOfBirth\":1542412800000,\"Industry\":\"Proin Velit Industries\",\"Income\":\"86 308\",\"Age\":1,\"age_bin\":\"<18\"},{\"Name\":\"Chiquita Roberts\",\"Gender\":2,\"DateOfBirth\":1540857600000,\"Industry\":\"Tortor Dictum Associates\",\"Income\":\"52 321\",\"Age\":1,\"age_bin\":\"<18\"},{\"Name\":\"Dexter Castillo\",\"Gender\":1,\"DateOfBirth\":1571788800000,\"Industry\":\"Risus Donec Ltd\",\"Income\":\"32 230\",\"Age\":0,\"age_bin\":\"<18\"},{\"Name\":\"Fletcher Bates\",\"Gender\":2,\"DateOfBirth\":1593561600000,\"Industry\":\"Non Vestibulum Nec Corporation\",\"Income\":\"50 185\",\"Age\":-1,\"age_bin\":null},{\"Name\":\"Lamar Gray\",\"Gender\":1,\"DateOfBirth\":1544227200000,\"Industry\":\"Neque Pellentesque PC\",\"Income\":\"63 958\",\"Age\":1,\"age_bin\":\"<18\"},{\"Name\":\"Justine Reynolds\",\"Gender\":2,\"DateOfBirth\":1556928000000,\"Industry\":\"Taciti Industries\",\"Income\":\"94 209\",\"Age\":0,\"age_bin\":\"<18\"},{\"Name\":\"Dale Jarvis\",\"Gender\":1,\"DateOfBirth\":1587427200000,\"Industry\":\"Nonummy LLP\",\"Income\":\"98 102\",\"Age\":-1,\"age_bin\":null},{\"Name\":\"Shaeleigh Dorsey\",\"Gender\":1,\"DateOfBirth\":1525996800000,\"Industry\":\"Et Rutrum Non PC\",\"Income\":\"79 815\",\"Age\":1,\"age_bin\":\"<18\"},{\"Name\":\"Reagan Rhodes\",\"Gender\":2,\"DateOfBirth\":1585180800000,\"Industry\":\"Suspendisse Non Incorporated\",\"Income\":\"96 690\",\"Age\":-1,\"age_bin\":null},{\"Name\":\"Cruz Park\",\"Gender\":2,\"DateOfBirth\":1591315200000,\"Industry\":\"Ultrices PC\",\"Income\":\"81 669\",\"Age\":-1,\"age_bin\":null},{\"Name\":\"Dustin Roy\",\"Gender\":2,\"DateOfBirth\":1523404800000,\"Industry\":\"Nulla Tincidunt Neque Incorporated\",\"Income\":\"70 082\",\"Age\":1,\"age_bin\":\"<18\"},{\"Name\":\"Cade Ashley\",\"Gender\":2,\"DateOfBirth\":1569888000000,\"Industry\":\"Diam Proin Company\",\"Income\":\"97 568\",\"Age\":0,\"age_bin\":\"<18\"},{\"Name\":\"Brent Hobbs\",\"Gender\":1,\"DateOfBirth\":1585872000000,\"Industry\":\"A Dui Institute\",\"Income\":\"46 949\",\"Age\":-1,\"age_bin\":null},{\"Name\":\"Ray Salazar\",\"Gender\":1,\"DateOfBirth\":1584489600000,\"Industry\":\"Conubia Industries\",\"Income\":\"58 453\",\"Age\":-1,\"age_bin\":null},{\"Name\":\"Vielka Bowman\",\"Gender\":2,\"DateOfBirth\":1587772800000,\"Industry\":\"Non Lacinia PC\",\"Income\":\"26 505\",\"Age\":-1,\"age_bin\":null},{\"Name\":\"Wyatt Smith\",\"Gender\":1,\"DateOfBirth\":1564531200000,\"Industry\":\"Sit Amet Risus Incorporated\",\"Income\":\"80 788\",\"Age\":0,\"age_bin\":\"<18\"},{\"Name\":\"Finn Maddox\",\"Gender\":1,\"DateOfBirth\":1561507200000,\"Industry\":\"Pellentesque Ultricies Dignissim Inc.\",\"Income\":\"59 894\",\"Age\":0,\"age_bin\":\"<18\"},{\"Name\":\"Dylan Whitehead\",\"Gender\":1,\"DateOfBirth\":1574467200000,\"Industry\":\"Nulla Integer Corporation\",\"Income\":\"11 240\",\"Age\":0,\"age_bin\":\"<18\"},{\"Name\":\"Susan Cardenas\",\"Gender\":1,\"DateOfBirth\":1559174400000,\"Industry\":\"Euismod Ac Fermentum Corporation\",\"Income\":\"37 849\",\"Age\":0,\"age_bin\":\"<18\"},{\"Name\":\"Daryl Meyers\",\"Gender\":2,\"DateOfBirth\":1576972800000,\"Industry\":\"Libero Est Incorporated\",\"Income\":\"22 291\",\"Age\":0,\"age_bin\":\"<18\"},{\"Name\":\"Sopoline Macdonald\",\"Gender\":1,\"DateOfBirth\":1552780800000,\"Industry\":\"Sed Pede Consulting\",\"Income\":\"59 642\",\"Age\":0,\"age_bin\":\"<18\"},{\"Name\":\"Ursa Richard\",\"Gender\":2,\"DateOfBirth\":1544745600000,\"Industry\":\"Odio Phasellus At Ltd\",\"Income\":\"23 414\",\"Age\":1,\"age_bin\":\"<18\"},{\"Name\":\"Karina Bradley\",\"Gender\":1,\"DateOfBirth\":1590710400000,\"Industry\":\"Nec LLP\",\"Income\":\"62 949\",\"Age\":-1,\"age_bin\":null},{\"Name\":\"Chase Faulkner\",\"Gender\":1,\"DateOfBirth\":1561334400000,\"Industry\":\"Sed LLC\",\"Income\":\"23 665\",\"Age\":0,\"age_bin\":\"<18\"},{\"Name\":\"Cara Horn\",\"Gender\":2,\"DateOfBirth\":1586044800000,\"Industry\":\"Odio Limited\",\"Income\":\"31 566\",\"Age\":-1,\"age_bin\":null},{\"Name\":\"Madeline Blankenship\",\"Gender\":2,\"DateOfBirth\":1554076800000,\"Industry\":\"Ad Litora Limited\",\"Income\":\"48 691\",\"Age\":0,\"age_bin\":\"<18\"},{\"Name\":\"India Mcmahon\",\"Gender\":1,\"DateOfBirth\":1554076800000,\"Industry\":\"Aliquam Tincidunt Nunc Industries\",\"Income\":\"33 494\",\"Age\":0,\"age_bin\":\"<18\"},{\"Name\":\"Silas Wilcox\",\"Gender\":1,\"DateOfBirth\":1568505600000,\"Industry\":\"Inceptos Hymenaeos Mauris Inc.\",\"Income\":\"24 281\",\"Age\":0,\"age_bin\":\"<18\"},{\"Name\":\"Dominique Maldonado\",\"Gender\":2,\"DateOfBirth\":1571788800000,\"Industry\":\"Auctor Vitae Incorporated\",\"Income\":\"47 072\",\"Age\":0,\"age_bin\":\"<18\"},{\"Name\":\"Cyrus Frost\",\"Gender\":1,\"DateOfBirth\":1583020800000,\"Industry\":\"Sed Consequat Auctor Company\",\"Income\":\"70 446\",\"Age\":-1,\"age_bin\":null},{\"Name\":\"Kaden Peters\",\"Gender\":2,\"DateOfBirth\":1585699200000,\"Industry\":\"Pede Foundation\",\"Income\":\"55 652\",\"Age\":-1,\"age_bin\":null},{\"Name\":\"Karly Vega\",\"Gender\":2,\"DateOfBirth\":1582761600000,\"Industry\":\"Auctor Mauris Limited\",\"Income\":\"15 194\",\"Age\":-1,\"age_bin\":null},{\"Name\":\"Dora Little\",\"Gender\":2,\"DateOfBirth\":1546646400000,\"Industry\":\"At Lacus Company\",\"Income\":\"76 580\",\"Age\":0,\"age_bin\":\"<18\"},{\"Name\":\"Quail Harris\",\"Gender\":1,\"DateOfBirth\":1578182400000,\"Industry\":\"Lorem Corp.\",\"Income\":\"42 889\",\"Age\":-1,\"age_bin\":null},{\"Name\":\"Quynn Pickett\",\"Gender\":2,\"DateOfBirth\":1558310400000,\"Industry\":\"Accumsan Interdum Ltd\",\"Income\":\"73 614\",\"Age\":0,\"age_bin\":\"<18\"},{\"Name\":\"Maile Kent\",\"Gender\":2,\"DateOfBirth\":1548979200000,\"Industry\":\"Magna Sed LLC\",\"Income\":\"99 119\",\"Age\":0,\"age_bin\":\"<18\"},{\"Name\":\"Uriel Roberts\",\"Gender\":2,\"DateOfBirth\":1555804800000,\"Industry\":\"Vestibulum Massa Rutrum Foundation\",\"Income\":\"50 377\",\"Age\":0,\"age_bin\":\"<18\"},{\"Name\":\"Francis Taylor\",\"Gender\":1,\"DateOfBirth\":1570752000000,\"Industry\":\"Sapien Institute\",\"Income\":\"82 661\",\"Age\":0,\"age_bin\":\"<18\"},{\"Name\":\"Kerry Delgado\",\"Gender\":1,\"DateOfBirth\":1577923200000,\"Industry\":\"Semper Rutrum Fusce Corporation\",\"Income\":\"26 496\",\"Age\":-1,\"age_bin\":null},{\"Name\":\"Lacota Gallegos\",\"Gender\":2,\"DateOfBirth\":1537574400000,\"Industry\":\"Accumsan Sed Consulting\",\"Income\":\"98 102\",\"Age\":1,\"age_bin\":\"<18\"},{\"Name\":\"Ursa Meyers\",\"Gender\":1,\"DateOfBirth\":1581638400000,\"Industry\":\"Dictum Associates\",\"Income\":\"52 353\",\"Age\":-1,\"age_bin\":null},{\"Name\":\"Anne Hall\",\"Gender\":1,\"DateOfBirth\":1588636800000,\"Industry\":\"Tristique Corporation\",\"Income\":\"12 654\",\"Age\":-1,\"age_bin\":null},{\"Name\":\"Ali Rogers\",\"Gender\":1,\"DateOfBirth\":1572134400000,\"Industry\":\"Neque Et Nunc LLC\",\"Income\":\"92 687\",\"Age\":0,\"age_bin\":\"<18\"},{\"Name\":\"Orlando Valentine\",\"Gender\":1,\"DateOfBirth\":1574812800000,\"Industry\":\"Magna Cras LLC\",\"Income\":\"39 563\",\"Age\":0,\"age_bin\":\"<18\"},{\"Name\":\"Rose Burgess\",\"Gender\":1,\"DateOfBirth\":1569024000000,\"Industry\":\"Nec Ante Blandit Limited\",\"Income\":\"36 587\",\"Age\":0,\"age_bin\":\"<18\"},{\"Name\":\"Cade Spence\",\"Gender\":1,\"DateOfBirth\":1541635200000,\"Industry\":\"Nulla Company\",\"Income\":\"62 780\",\"Age\":1,\"age_bin\":\"<18\"},{\"Name\":\"Maxwell Hendrix\",\"Gender\":1,\"DateOfBirth\":1535673600000,\"Industry\":\"Aliquet Molestie Company\",\"Income\":\"89 064\",\"Age\":1,\"age_bin\":\"<18\"},{\"Name\":\"Sophia Branch\",\"Gender\":2,\"DateOfBirth\":1572480000000,\"Industry\":\"Mauris Associates\",\"Income\":\"79 135\",\"Age\":0,\"age_bin\":\"<18\"}]\n"
          ],
          "name": "stdout"
        }
      ]
    },
    {
      "cell_type": "code",
      "metadata": {
        "id": "QkU7u-g3L3qF",
        "colab_type": "code",
        "colab": {}
      },
      "source": [
        "Export = Data.to_json (r'C:\\Users\\lagos\\Documents\\Interview Data Addiction\\Export_DataFrame.json')"
      ],
      "execution_count": 0,
      "outputs": []
    },
    {
      "cell_type": "code",
      "metadata": {
        "id": "tU2ThoH_Oe_9",
        "colab_type": "code",
        "colab": {}
      },
      "source": [
        "Export"
      ],
      "execution_count": 0,
      "outputs": []
    }
  ]
}